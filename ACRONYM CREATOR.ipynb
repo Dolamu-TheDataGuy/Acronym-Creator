{
 "cells": [
  {
   "cell_type": "code",
   "execution_count": 1,
   "metadata": {},
   "outputs": [
    {
     "name": "stdout",
     "output_type": "stream",
     "text": [
      "Enter a Phrase: Building Information Modelling\n",
      " BIM\n"
     ]
    }
   ],
   "source": [
    "#Creating an acronym in Python\n",
    "main_word = str(input(\"Enter a Phrase: \"))\n",
    "text = main_word.split()\n",
    "a = \" \"\n",
    "\n",
    "for i in text:\n",
    "    a += str(i[0]).upper()\n",
    "print(a)"
   ]
  },
  {
   "cell_type": "code",
   "execution_count": null,
   "metadata": {},
   "outputs": [],
   "source": []
  }
 ],
 "metadata": {
  "kernelspec": {
   "display_name": "Python 3",
   "language": "python",
   "name": "python3"
  },
  "language_info": {
   "codemirror_mode": {
    "name": "ipython",
    "version": 3
   },
   "file_extension": ".py",
   "mimetype": "text/x-python",
   "name": "python",
   "nbconvert_exporter": "python",
   "pygments_lexer": "ipython3",
   "version": "3.8.5"
  }
 },
 "nbformat": 4,
 "nbformat_minor": 4
}
